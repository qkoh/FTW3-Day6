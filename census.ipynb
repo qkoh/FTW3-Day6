{
 "cells": [
  {
   "cell_type": "code",
   "execution_count": 1,
   "metadata": {},
   "outputs": [],
   "source": [
    "import numpy as np # numerical calc package\n",
    "import pandas as pd # holds data\n",
    "import matplotlib.pyplot as plt # plotting library\n",
    "import seaborn as sns # pretty plotting\n",
    "\n",
    "sns.set(rc={'figure.figsize':(20,10)})\n",
    "\n",
    "from sklearn.linear_model import LogisticRegression # linear model for classification\n",
    "\n",
    "from sklearn.metrics import confusion_matrix\n",
    "# Modelling\n",
    "from sklearn.model_selection import train_test_split\n",
    "from sklearn.ensemble import RandomForestClassifier\n",
    "from sklearn.ensemble import GradientBoostingRegressor\n",
    "\n",
    "# Package to Save Model\n",
    "import joblib\n",
    "\n",
    "# Metrics\n",
    "from sklearn.metrics import classification_report\n",
    "from sklearn.preprocessing import StandardScaler"
   ]
  },
  {
   "cell_type": "code",
   "execution_count": 2,
   "metadata": {},
   "outputs": [],
   "source": [
    "data = pd.read_csv('census.csv')"
   ]
  },
  {
   "cell_type": "code",
   "execution_count": 3,
   "metadata": {},
   "outputs": [],
   "source": [
    "#data = data[(data['hours-per-week']  > 10) & (data['hours-per-week'] <= ninetyfifth)].copy()"
   ]
  },
  {
   "cell_type": "code",
   "execution_count": 4,
   "metadata": {},
   "outputs": [
    {
     "data": {
      "text/plain": [
       "Index(['age', 'workclass', 'education_level', 'education-num',\n",
       "       'marital-status', 'occupation', 'relationship', 'race', 'sex',\n",
       "       'capital-gain', 'capital-loss', 'hours-per-week', 'native-country',\n",
       "       'income'],\n",
       "      dtype='object')"
      ]
     },
     "execution_count": 4,
     "metadata": {},
     "output_type": "execute_result"
    }
   ],
   "source": [
    "data.columns"
   ]
  },
  {
   "cell_type": "code",
   "execution_count": 5,
   "metadata": {},
   "outputs": [],
   "source": [
    "data = data.drop_duplicates()"
   ]
  },
  {
   "cell_type": "code",
   "execution_count": 6,
   "metadata": {},
   "outputs": [],
   "source": [
    "dep_var = 'income'\n",
    "cont = ['age', 'education-num','hours-per-week', 'capital-gain', 'capital-loss']\n",
    "cat = ['workclass', 'education_level', 'marital-status', 'occupation', 'relationship', 'race', 'sex','native-country']"
   ]
  },
  {
   "cell_type": "code",
   "execution_count": 7,
   "metadata": {},
   "outputs": [],
   "source": [
    "data['income'] == '>50K'\n",
    "\n",
    "# Multihot encode categorical variables\n",
    "df_cat = pd.get_dummies(data[cat].astype(str))\n",
    "\n",
    "# Reassign numerical to diff df\n",
    "df_cont = data[cont]\n",
    "\n",
    "scaler = StandardScaler()\n",
    "scaler.fit(df_cont)\n",
    "\n",
    "# Normalize numerical features\n",
    "#df_cont_norm = (df_cont-df_cont.min())/(df_cont.max()-df_cont.min())\n",
    "\n",
    "# Concatenate features\n",
    "#X = pd.concat([df_cat, df_cont_norm], axis=1)\n",
    "X = pd.concat([df_cat, df_cont], axis=1)\n",
    "\n",
    "# Create target df\n",
    "y = data[dep_var]"
   ]
  },
  {
   "cell_type": "code",
   "execution_count": 8,
   "metadata": {},
   "outputs": [],
   "source": [
    "from sklearn.feature_selection import SelectKBest, chi2, RFE\n",
    "from sklearn.svm import SVR"
   ]
  },
  {
   "cell_type": "code",
   "execution_count": 9,
   "metadata": {},
   "outputs": [],
   "source": [
    "from xgboost import XGBClassifier"
   ]
  },
  {
   "cell_type": "code",
   "execution_count": 10,
   "metadata": {},
   "outputs": [],
   "source": [
    "# !pip install yellowbrick"
   ]
  },
  {
   "cell_type": "code",
   "execution_count": 11,
   "metadata": {},
   "outputs": [],
   "source": [
    "# from sklearn.cluster import KMeans\n",
    "# from sklearn.datasets import make_blobs\n",
    "\n",
    "# from yellowbrick.cluster import KElbowVisualizer\n",
    "\n",
    "# # Generate synthetic dataset with 8 random clusters\n",
    "# X, y = make_blobs(random_state=42)\n",
    "\n",
    "# # Instantiate the clustering model and visualizer\n",
    "# model = KMeans()\n",
    "# visualizer = KElbowVisualizer(model)\n",
    "\n",
    "# visualizer.fit(X)        # Fit the data to the visualizer\n",
    "# visualizer.show()        # Finalize and render the figure"
   ]
  },
  {
   "cell_type": "code",
   "execution_count": 24,
   "metadata": {},
   "outputs": [
    {
     "name": "stdout",
     "output_type": "stream",
     "text": [
      "              precision    recall  f1-score   support\n",
      "\n",
      "       <=50K       0.95      0.88      0.91     12768\n",
      "        >50K       0.60      0.80      0.69      2928\n",
      "\n",
      "    accuracy                           0.86     15696\n",
      "   macro avg       0.77      0.84      0.80     15696\n",
      "weighted avg       0.89      0.86      0.87     15696\n",
      "\n"
     ]
    }
   ],
   "source": [
    "best = SelectKBest(chi2, k=13).fit_transform(X,y)\n",
    "best_train, best_test, y_train, y_test = train_test_split(best, y, test_size = 0.4, random_state = 42)\n",
    "\n",
    "# initialize model\n",
    "log_reg = XGBClassifier()\n",
    "\n",
    "# fit model\n",
    "log_reg.fit(best_train, y_train)\n",
    "\n",
    "# metrics (accuracy)\n",
    "acc = log_reg.score(best_test, y_test)\n",
    "\n",
    "# predictions\n",
    "y_pred = log_reg.predict(best_test)\n",
    "\n",
    "y_pred = log_reg.predict(best_test)\n",
    "report = classification_report(y_pred, y_test)\n",
    "print(report)"
   ]
  }
 ],
 "metadata": {
  "kernelspec": {
   "display_name": "Python 3",
   "language": "python",
   "name": "python3"
  },
  "language_info": {
   "codemirror_mode": {
    "name": "ipython",
    "version": 3
   },
   "file_extension": ".py",
   "mimetype": "text/x-python",
   "name": "python",
   "nbconvert_exporter": "python",
   "pygments_lexer": "ipython3",
   "version": "3.7.4"
  }
 },
 "nbformat": 4,
 "nbformat_minor": 2
}
